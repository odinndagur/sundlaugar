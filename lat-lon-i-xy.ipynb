{
 "cells": [
  {
   "cell_type": "code",
   "execution_count": 1,
   "metadata": {},
   "outputs": [],
   "source": [
    "import cartopy.crs as ccrs\n",
    "import cartopy\n",
    "import cartopy.feature as cfeature\n",
    "import matplotlib\n",
    "%matplotlib inline\n",
    "import matplotlib.pyplot as plt\n",
    "import pandas as pd\n",
    "import cartopy.io.shapereader as shpreader\n",
    "\n",
    "\n",
    "import matplotlib.backends.backend_pdf as pdf\n",
    "import matplotlib.font_manager as mfm\n",
    "import matplotlib.patches as patches"
   ]
  },
  {
   "cell_type": "code",
   "execution_count": 2,
   "metadata": {},
   "outputs": [],
   "source": [
    "# more setup\n",
    "cm = 1/2.54\n",
    "a4_landscape = (29.7*cm,21*cm)\n",
    "a4_portrait = (21*cm,29.7*cm)\n",
    "a5_landscape = (21*cm,14.8*cm)\n",
    "a5_portrait = (14.8*cm,21*cm)\n",
    "\n",
    "iceland_extent = (-25.356,-11.997,62.472,67.458)\n",
    "capital_region_extent = (-22.769,-21.110, 63.729, 64.373)\n",
    "\n",
    "fname = '/Users/odinndagur/Downloads/gadm36_ISL_shp/gadm36_ISL_2.shp'"
   ]
  },
  {
   "cell_type": "code",
   "execution_count": 3,
   "metadata": {},
   "outputs": [],
   "source": [
    "# ignore unimportant warning that comes up\n",
    "import warnings\n",
    "from shapely.errors import ShapelyDeprecationWarning\n",
    "\n",
    "warnings.filterwarnings(\"ignore\", category=ShapelyDeprecationWarning)"
   ]
  },
  {
   "cell_type": "code",
   "execution_count": 4,
   "metadata": {},
   "outputs": [],
   "source": [
    "# clean data and make a dataframe and bbox\n",
    "import json\n",
    "import numpy as np\n",
    "\n",
    "with open('pools.json','r') as f:\n",
    "    data = json.load(f)\n",
    "\n",
    "for x in data:\n",
    "    x['address'] = x['address'].strip()\n",
    "    if(len(x['coordinates']) > 0):\n",
    "        x['longitude'], x['latitude'] = float(x['coordinates'].split(',')[0]), float('-' + x['coordinates'].split(',')[1])\n",
    "\n",
    "df = pd.DataFrame(data=data)\n",
    "\n",
    "BBox = (df.longitude.min(),   df.longitude.max(),      \n",
    "         df.latitude.min(), df.latitude.max())\n"
   ]
  },
  {
   "cell_type": "code",
   "execution_count": 68,
   "metadata": {},
   "outputs": [
    {
     "name": "stdout",
     "output_type": "stream",
     "text": [
      "[array([[ 1.85713067, -5.56214424]])]\n",
      "[-19.0, 65.0] \n",
      " [-3.25052913e+07  1.11908472e+08] \n",
      " [ 1.85713067 -5.56214424] \n",
      " [ 1.85713067 -5.56214424] \n",
      "\n",
      "(-32505291.31163588, 111908472.4886216)\n",
      "(1.8571306657211442, -5.562144239401454)\n",
      "------------  Bbox(x0=0.17244287838592492, y0=0.0, x1=0.8275571216140751, y1=1.0) linear Affine2D().scale(72.0)\n"
     ]
    },
    {
     "data": {
      "image/png": "[encoded data removed]",
      "text/plain": [
       "<Figure size 432x288 with 1 Axes>"
      ]
     },
     "metadata": {
      "needs_background": "light"
     },
     "output_type": "display_data"
    },
    {
     "data": {
      "text/plain": [
       "<Figure size 432x288 with 0 Axes>"
      ]
     },
     "metadata": {},
     "output_type": "display_data"
    }
   ],
   "source": [
    "import inspect\n",
    "\n",
    "def axis_data_coords_sys_transform(axis_obj_in,xin,yin,inverse=False):\n",
    "    \"\"\" inverse = False : Axis => Data\n",
    "                = True  : Data => Axis\n",
    "    \"\"\"\n",
    "    xlim = axis_obj_in.get_xlim()\n",
    "    ylim = axis_obj_in.get_ylim()\n",
    "\n",
    "    xdelta = xlim[1] - xlim[0]\n",
    "    ydelta = ylim[1] - ylim[0]\n",
    "    if not inverse:\n",
    "        xout =  xlim[0] + xin * xdelta\n",
    "        yout =  ylim[0] + yin * ydelta\n",
    "    else:\n",
    "        xdelta2 = xin - xlim[0]\n",
    "        ydelta2 = yin - ylim[0]\n",
    "        xout = xdelta2 / xdelta\n",
    "        yout = ydelta2 / ydelta\n",
    "    return xout,yout\n",
    "\n",
    "fig = plt.figure()\n",
    "ax = plt.axes(projection=ccrs.Mercator())\n",
    "\n",
    "plt.subplots_adjust(top = 1, bottom = 0, right = 1, left = 0, hspace = 0, wspace = 0)\n",
    "\n",
    "# region_extent = capital_region_extent\n",
    "# # ax.set_extent(region_extent, crs=ccrs.PlateCarree())\n",
    "extent = (-26,-12,62,68)\n",
    "ax.set_extent(extent, crs=ccrs.PlateCarree())\n",
    "# ax.set_global()\n",
    "center = [((-26) + (-12))/2, (62 + 68)/2]\n",
    "# ax.set_title('Ísland')\n",
    "ax.coastlines()\n",
    "\n",
    "\n",
    "plt.draw()\n",
    "l = plt.plot(center[0],center[1],'x', color='black', markersize=10, linestyle=\"None\", transform=ccrs.PlateCarree())\n",
    "l2 = plt.plot(1.85713067, -5.56214424,'o',color='green',markersize=15,linestyle=\"None\",transform=plt.gca().transAxes)\n",
    "\n",
    "print([p.get_xydata() for p in [l for l in l2]])\n",
    "fig.canvas.draw()\n",
    "\n",
    "\n",
    "\n",
    "axis_to_data = ax.transAxes + ax.transData.inverted()\n",
    "data_to_axis = axis_to_data.inverted()\n",
    "points_data = axis_to_data.transform(center)\n",
    "points_data2 = data_to_axis.transform(center)\n",
    "points_data3 = ax.transLimits.transform(center)\n",
    "print(center, '\\n', points_data, '\\n', points_data2, '\\n', points_data3, '\\n')\n",
    "\n",
    "\n",
    "print(axis_data_coords_sys_transform(ax,center[0],center[1]))\n",
    "print(axis_data_coords_sys_transform(ax,center[0],center[1], inverse=True))\n",
    "\n",
    "# for line in l:\n",
    "    # print(dir(line))\n",
    "    # print(line.get_transform())\n",
    "    # line.set_transform(line.get_transform().inverted())\n",
    "    # print(line.get_transform())\n",
    "    # line.set_transform(ax.get_transform().inverted())\n",
    "    # for point in line.get_xydata():\n",
    "    #     print(point)\n",
    "\n",
    "# plt.plot(50,50,'o',color='red',markersize=10,linestyle='None')\n",
    "\n",
    "\n",
    "\n",
    "\n",
    "# temp = (center[0],center[1])\n",
    "\n",
    "# print(-25.356,-11.997,62.472,67.458)\n",
    "# # print('original: ',temp)\n",
    "# # print('transform: ', ax.transData.transform(temp))\n",
    "# # print('inverse of transform: ', ax.transData.inverted().transform(ax.transData.transform(temp)))\n",
    "\n",
    "\n",
    "\n",
    "# # for val in inspect.getmembers(ax.bbox):\n",
    "# #     print(val)\n",
    "# # print('bbox: ', inspect.getmembers(ax.bbox))\n",
    "# print('xlim: ', ax.get_xlim(), 'ylim: ', ax.get_ylim())\n",
    "# print('window extent: ', ax.get_window_extent())\n",
    "def inv(xy):\n",
    "    return ax.transData.inverted().transform(xy)\n",
    "def trn(xy):\n",
    "    return ax.transData.transform(xy)\n",
    "\n",
    "print('------------ ', ax.get_position(), ax.get_xscale(), fig.dpi_scale_trans)\n",
    "\n",
    "# extent = [-26,-12,62,68]\n",
    "# print('trn xy: ', trn((-26, 62)))\n",
    "# print(trn((-12,68)))\n",
    "\n",
    "# print(inv((ax.get_xlim()[0],ax.get_ylim()[0])))\n",
    "\n",
    "# print((temp))\n",
    "# print(trn(temp))\n",
    "# print('bbox xmin xmax ymin ymax: ', (ax.bbox.xmin, ax.bbox.xmax, ax.bbox.ymin, ax.bbox.ymax))\n",
    "# print(ax.get_window_extent())\n",
    "\n",
    "# print(center)\n",
    "\n",
    "# transform = ccrs.Mercator()._as_mpl_transform(ax)\n",
    "# # print('transform: ', dir(transform), transform.transform_point(temp))\n",
    "\n",
    "# # for index, obj in pool.iterrows():\n",
    "# #     if(obj['longitude'] > 0):\n",
    "# #         ax.text(obj['latitude'],obj['longitude'], obj['name'], color='black', size=5, ha='center', va='center', transform=ccrs.PlateCarree())#, \n",
    "\n",
    "# # plt.gca().set_axis_off()\n",
    "# print((plt.gca().get_ylim()))\n",
    "# print(dir(plt.gca().get_transform()))\n",
    "# print(plt.gca().transform_point)\n",
    "\n",
    "\n",
    "import matplotlib.lines as lines\n",
    "mynewline = lines.Line2D((0,0.5,1),(0.5,0.5,0),color='g',transform=plt.gca().transAxes) # Axes coordinates\n",
    "\n",
    "plt.gca().add_artist(mynewline)\n",
    "\n",
    "plt.show()\n",
    "# fig.set_clip_box(ax.get_window_extent())\n",
    "# # plt.subplots_adjust(top = 1, bottom = 0, right = 1, left = 0, \n",
    "# #             hspace = 0, wspace = 0)\n",
    "# # plt.margins(0,0)\n",
    "plt.savefig('transform.svg')\n",
    "# plt.show()"
   ]
  },
  {
   "cell_type": "code",
   "execution_count": null,
   "metadata": {},
   "outputs": [],
   "source": []
  },
  {
   "cell_type": "code",
   "execution_count": null,
   "metadata": {},
   "outputs": [],
   "source": []
  }
 ],
 "metadata": {
  "interpreter": {
   "hash": "8647eb48ee15e2b86266e80ef8469b26e5ed2601e1befdd89315db05b7a04a77"
  },
  "kernelspec": {
   "display_name": "Python 3.9.5 ('base')",
   "language": "python",
   "name": "python3"
  },
  "language_info": {
   "codemirror_mode": {
    "name": "ipython",
    "version": 3
   },
   "file_extension": ".py",
   "mimetype": "text/x-python",
   "name": "python",
   "nbconvert_exporter": "python",
   "pygments_lexer": "ipython3",
   "version": "3.9.10"
  },
  "orig_nbformat": 4
 },
 "nbformat": 4,
 "nbformat_minor": 2
}
