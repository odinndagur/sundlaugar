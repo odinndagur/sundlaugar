{
 "cells": [
  {
   "cell_type": "code",
   "execution_count": 1,
   "metadata": {},
   "outputs": [],
   "source": [
    "import cartopy.crs as ccrs\n",
    "import cartopy\n",
    "import cartopy.feature as cfeature\n",
    "%matplotlib inline\n",
    "import matplotlib.pyplot as plt\n",
    "import pandas as pd"
   ]
  },
  {
   "cell_type": "code",
   "execution_count": 18,
   "metadata": {},
   "outputs": [],
   "source": [
    "import warnings\n",
    "from shapely.errors import ShapelyDeprecationWarning\n",
    "\n",
    "warnings.filterwarnings(\"ignore\", category=ShapelyDeprecationWarning)"
   ]
  },
  {
   "cell_type": "code",
   "execution_count": 2,
   "metadata": {},
   "outputs": [],
   "source": [
    "# clean data and make a dataframe and bbox\n",
    "import json\n",
    "import numpy as np\n",
    "\n",
    "with open('pools.json','r') as f:\n",
    "    data = json.load(f)\n",
    "\n",
    "for x in data:\n",
    "    x['address'] = x['address'].strip()\n",
    "    if(len(x['coordinates']) > 0):\n",
    "        x['longitude'], x['latitude'] = float(x['coordinates'].split(',')[0]), float('-' + x['coordinates'].split(',')[1])\n",
    "\n",
    "df = pd.DataFrame(data=data)\n",
    "\n",
    "BBox = (df.longitude.min(),   df.longitude.max(),      \n",
    "         df.latitude.min(), df.latitude.max())\n"
   ]
  },
  {
   "cell_type": "code",
   "execution_count": 23,
   "metadata": {},
   "outputs": [],
   "source": [
    "fig = plt.figure(figsize=(40, 20))\n",
    "ax = fig.add_subplot(projection=ccrs.Mercator())\n",
    "# plt.axes(projection=ccrs.Mercator())\n",
    "# ax.set_global()\n",
    "iceland_extent = (-25.356,-11.997,62.472,67.458)\n",
    "capital_region_extent = (-22.769,-21.110, 63.729, 64.373)\n",
    "region_extent = iceland_extent\n",
    "ax.set_extent(region_extent)\n",
    "# ax.set_extent((df.latitude.min(),df.latitude.max(),df.longitude.min(),df.longitude.max()))\n",
    "ax.coastlines()\n",
    "ax.set_title('Ísland')\n",
    "ax.add_feature(cartopy.feature.OCEAN)\n",
    "ax.add_feature(cartopy.feature.LAND, edgecolor='black')\n",
    "ax.add_feature(cartopy.feature.LAKES, edgecolor='black')\n",
    "rivers_50m = cfeature.NaturalEarthFeature('physical', 'rivers_lake_centerlines', '50m')\n",
    "# ax.gridlines()\n",
    "\n",
    "df = df.drop(df[(df.longitude > region_extent[0]) & (df.longitude < region_extent[1]) & (df.latitude > region_extent[2]) & (df.latitude < region_extent[3])].index)\n",
    "\n",
    "ax.add_feature(cartopy.feature.NaturalEarthFeature(category='cultural',\n",
    "        name='populated_places', \n",
    "        scale='10m', \n",
    "        facecolor='none'))\n",
    "\n",
    "plt.plot(df['latitude'],df['longitude'],df['name'],\n",
    "         color='red', marker='o',\n",
    "         markersize=20,\n",
    "         linestyle=\"None\",\n",
    "         transform=ccrs.Geodetic(),\n",
    "         )\n",
    "\n",
    "plt.plot(df['latitude'],df['longitude'],df['name'],\n",
    "         color='red', marker='o',\n",
    "         markersize=20,\n",
    "         linestyle=\"None\",\n",
    "         transform=ccrs.Mercator(),\n",
    "         )\n",
    "\n",
    "# plt.show()\n",
    "import matplotlib.patheffects as PathEffects\n",
    "\n",
    "transform = ccrs.Mercator()._as_mpl_transform(ax)\n",
    "for index, obj in df.iterrows():\n",
    "    if(obj['longitude'] > 0):\n",
    "        # ax.text(obj['latitude'],obj['longitude'], obj['name'], color='red', size=15, ha='center', va='center', transform=ccrs.PlateCarree(), \n",
    "        #                 path_effects=[PathEffects.withStroke(linewidth=5, foreground=\"k\", alpha=.8)])\n",
    "        ax.text(obj['latitude'],obj['longitude'], str(index), color='black', size=15, ha='center', va='center', transform=ccrs.Mercator())\n",
    "plt.gca().set_axis_off()\n",
    "plt.subplots_adjust(top = 1, bottom = 0, right = 1, left = 0, \n",
    "            hspace = 0, wspace = 0)\n",
    "plt.margins(0,0)\n",
    "plt.savefig('hofudborgarsvaedsad2j8id.pdf')\n",
    "plt.show()"
   ]
  },
  {
   "cell_type": "code",
   "execution_count": null,
   "metadata": {},
   "outputs": [],
   "source": []
  }
 ],
 "metadata": {
  "interpreter": {
   "hash": "8647eb48ee15e2b86266e80ef8469b26e5ed2601e1befdd89315db05b7a04a77"
  },
  "kernelspec": {
   "display_name": "Python 3.9.5 ('base')",
   "language": "python",
   "name": "python3"
  },
  "language_info": {
   "codemirror_mode": {
    "name": "ipython",
    "version": 3
   },
   "file_extension": ".py",
   "mimetype": "text/x-python",
   "name": "python",
   "nbconvert_exporter": "python",
   "pygments_lexer": "ipython3",
   "version": "3.9.10"
  },
  "orig_nbformat": 4
 },
 "nbformat": 4,
 "nbformat_minor": 2
}
